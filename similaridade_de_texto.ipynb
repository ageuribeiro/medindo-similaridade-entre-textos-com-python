{
  "nbformat": 4,
  "nbformat_minor": 0,
  "metadata": {
    "colab": {
      "provenance": []
    },
    "kernelspec": {
      "name": "python3",
      "display_name": "Python 3"
    },
    "language_info": {
      "name": "python"
    }
  },
  "cells": [
    {
      "cell_type": "markdown",
      "source": [
        "# Minerando Dados\n",
        "\n",
        "## Medida de Similaridade entre textos - Containment\n",
        "\n",
        "<hr>\n",
        "\n",
        "Neste notebook, iremos implementar uma função containment. A tal função irá comparar dois textos e analisar a similaridade dos mesmos com relação aos seus n-gramas de interação. Primeiramente iremos entender o conceito de vocabulário, n-gramas para posteriormente implementar a função.\n",
        "\n",
        "<hr>\n",
        "\n",
        "## Contar N-Grama\n",
        "\n",
        "* É uma sequência de n-elementos dentro de uma frase:\n",
        "    * Palavras\n",
        "    * Letras\n",
        "    * Símbolos\n",
        "    * Classificação gramatical\n",
        "    * etc\n",
        "\n",
        "Primeiramente temos que contar as ocorrências de n-gramas dos nosso textos. Usaremos o CountVectorizer para converter o conjuntos de dados\n",
        "de textos em uma matriz de contagem.\n",
        "\n",
        "No código abaixo, podemos variar o valor de n e utilizar o CountVectorizer para contat as ocorrências de n-gramas. Podemos notar que na célula abaixo estamos criando um vocabulário através da utilização do ConuntVectorizer e, posteriormente iremos analizae a matriz de contagem."
      ],
      "metadata": {
        "id": "w4aqJYlwGzp3"
      }
    },
    {
      "cell_type": "code",
      "execution_count": null,
      "metadata": {
        "id": "nIjPc62gGvMn"
      },
      "outputs": [],
      "source": [
        "import numpy as np\n",
        "import sklearn"
      ]
    },
    {
      "cell_type": "markdown",
      "source": [
        "# Unigrama\n",
        "\n",
        "A execução do exemplo imprime o vocabulário. Podemos ver que existem 8 palavras no vocabulário e, portanto, vetores codificados também possuem um comprimento de 8.\n",
        "\n"
      ],
      "metadata": {
        "id": "IacXBHLDHWPy"
      }
    },
    {
      "cell_type": "code",
      "source": [
        "from sklearn.feature_extraction.text import CountVectorizer\n",
        "\n",
        "texto_a_ser_comparado = \"Suponha que esse seja o texto que desejo comparar\"\n",
        "texto_fonte = \"Suponha que esse seja o texto principal\"\n",
        "\n",
        "# Número de n-gramas\n",
        "n = 1\n",
        "\n",
        "# Instanciando o contador de n-gramas\n",
        "counts = CountVectorizer(analyzer='word', ngram_range=(n,n))\n",
        "\n",
        "# Cria um dicionario de n-gramas\n",
        "vocab2int = counts.fit([texto_a_ser_comparado, texto_fonte]).vocabulary_\n",
        "\n",
        "# Printar dicionário de palavras: index\n",
        "print(vocab2int)"
      ],
      "metadata": {
        "colab": {
          "base_uri": "https://localhost:8080/"
        },
        "id": "U0-jRv-PG6T0",
        "outputId": "eec2fcb0-70ce-49b4-8c97-d6760fe406ff"
      },
      "execution_count": null,
      "outputs": [
        {
          "output_type": "stream",
          "name": "stdout",
          "text": [
            "{'suponha': 6, 'que': 4, 'esse': 2, 'seja': 5, 'texto': 7, 'desejo': 1, 'comparar': 0, 'principal': 3}\n"
          ]
        }
      ]
    },
    {
      "cell_type": "markdown",
      "source": [
        "# Bigrama\n",
        "\n",
        "O mesmo vale para o caso de dec bigramas. Temos 8 bigramas no vocabulário e, os vetores são codificados com comprimento.\n"
      ],
      "metadata": {
        "id": "sqdUgwgQK9Ln"
      }
    },
    {
      "cell_type": "code",
      "source": [
        "# Número de n_gramas\n",
        "n = 2\n",
        "\n",
        "# Instancia o contador de n-gramas\n",
        "counts = CountVectorizer(analyzer='word', ngram_range=(n,n))\n",
        "\n",
        "# Cria um dicionário de n-gramas\n",
        "vocab2int = counts.fit([texto_a_ser_comparado, texto_fonte]).vocabulary_\n",
        "\n",
        "# printar o dicionario de palavras index\n",
        "print(vocab2int)"
      ],
      "metadata": {
        "colab": {
          "base_uri": "https://localhost:8080/"
        },
        "id": "M8-JaNksIHyV",
        "outputId": "bff33aac-7222-4e65-8dae-8efa1c5a646a"
      },
      "execution_count": null,
      "outputs": [
        {
          "output_type": "stream",
          "name": "stdout",
          "text": [
            "{'suponha que': 5, 'que esse': 3, 'esse seja': 1, 'seja texto': 4, 'texto que': 7, 'que desejo': 2, 'desejo comparar': 0, 'texto principal': 6}\n"
          ]
        }
      ]
    },
    {
      "cell_type": "markdown",
      "source": [
        "# Trigrama\n",
        "\n"
      ],
      "metadata": {
        "id": "jJV7qHYdMIP7"
      }
    },
    {
      "cell_type": "code",
      "source": [
        "# Número de n_gramas\n",
        "n = 3\n",
        "\n",
        "# Instancia o contador de n-gramas\n",
        "counts = CountVectorizer(analyzer='word', ngram_range=(n,n))\n",
        "\n",
        "# Cria um dicionário de n-gramas\n",
        "vocab2int = counts.fit([texto_a_ser_comparado, texto_fonte]).vocabulary_\n",
        "\n",
        "# printar o dicionario de palavras index\n",
        "print(vocab2int)"
      ],
      "metadata": {
        "colab": {
          "base_uri": "https://localhost:8080/"
        },
        "id": "rJLbghejMF9X",
        "outputId": "e61b4a8a-9f91-4c72-efee-8240b4a163b1"
      },
      "execution_count": null,
      "outputs": [
        {
          "output_type": "stream",
          "name": "stdout",
          "text": [
            "{'suponha que esse': 5, 'que esse seja': 2, 'esse seja texto': 0, 'seja texto que': 4, 'texto que desejo': 6, 'que desejo comparar': 1, 'seja texto principal': 3}\n"
          ]
        }
      ]
    },
    {
      "cell_type": "markdown",
      "source": [
        "## As palavras do vocabulário\n",
        "\n",
        "Note que o artigo \"o\" das frases <span style=\"background-color: silver; color: black; \">texto_a_ser_comparado</span> e <span style=\"color: red;\">texto_fonte</span> não aparece no vocabulários. Note que todas as frases encontram-se em minúsculos. Isso ocorre devido ao fato de que quando passamos o parâmetro analyzer = \"word\", estamos considerando em nossa análise palavras com dois ou mais caracteres e consequetemente ignorando as palavras com apenas um caraterer. Excluir esses caracteres (artigos) é um comportamento padrão e desejado por muitas análises de texto devido a sua irrelevancia, em grande parte das análises textuais.\n",
        "\n",
        "Caso você precise desconsiderar o padrão default do CountVectorizer e adicionar palavras com caracteres únicos em sua análise, você pode adicionar o argumento token_pattern passando REGEX de seleção. Essa expressão regular (REGEX) define palavra como tendo uma ou mais caracteres."
      ],
      "metadata": {
        "id": "3EPmi6joMnPz"
      }
    },
    {
      "cell_type": "markdown",
      "source": [
        "# Array de N-Gramas\n",
        "\n",
        "Vamos utilizar o CountVectorizer para criar um array com as  contagens de n-gramas. além disso, vamos criar duas frases que desejamos analizar, e transformar cada texto em um vetor numérico representando o ocorrência de palavras.\n",
        "\n",
        "Notar que cada linha representa um texto e cada coluna ou index representa o termos do vocabulário. Iremos ver isso claramente no mapeamento abaixo.\n",
        "\n",
        "* texto_a_ser_comparado = \"Suponha que esse seja o texto que desejo comparar\".\n",
        "\n",
        "* texto_fonte = \"Suponha que esse seja o texto principal\".\n"
      ],
      "metadata": {
        "id": "aU8myLGHQ6Tp"
      }
    },
    {
      "cell_type": "code",
      "source": [
        "# Número de n_gramas\n",
        "n = 1\n",
        "\n",
        "# Instancia o contador de n-gramas\n",
        "counts = CountVectorizer(analyzer='word', ngram_range=(n,n))\n",
        "\n",
        "# Cria um matriz de contagem de n-gramas para os dois textos\n",
        "n_gramas = counts.fit_transform([texto_a_ser_comparado, texto_fonte])\n",
        "\n",
        "# Cria um dicionário de n-gramas\n",
        "vocab2int = counts.fit([texto_a_ser_comparado, texto_fonte]).vocabulary_\n",
        "\n",
        "n_gramas_array = n_gramas.toarray()\n",
        "\n",
        "# printar o dicionario de palavras index\n",
        "print('Vetor de n-gramas:\\n\\n', n_gramas_array)\n",
        "print()\n",
        "print('Dicionario de n-gramas(unigrama):\\n\\n',vocab2int)"
      ],
      "metadata": {
        "colab": {
          "base_uri": "https://localhost:8080/"
        },
        "id": "SYbHK2XlQrYm",
        "outputId": "269c13d7-ad93-4b8e-8d2a-446b2b3b4d44"
      },
      "execution_count": null,
      "outputs": [
        {
          "output_type": "stream",
          "name": "stdout",
          "text": [
            "Vetor de n-gramas:\n",
            "\n",
            " [[1 1 1 0 2 1 1 1]\n",
            " [0 0 1 1 1 1 1 1]]\n",
            "\n",
            "Dicionario de n-gramas(unigrama):\n",
            "\n",
            " {'suponha': 6, 'que': 4, 'esse': 2, 'seja': 5, 'texto': 7, 'desejo': 1, 'comparar': 0, 'principal': 3}\n"
          ]
        }
      ]
    },
    {
      "cell_type": "code",
      "source": [
        "texto_a_ser_comparado = \"Suponha que esse seja o texto que desejo comparar\"\n",
        "texto_fonte = \"Suponha que esse seja o texto principal\""
      ],
      "metadata": {
        "id": "QpLZjNMkSwhY"
      },
      "execution_count": null,
      "outputs": []
    },
    {
      "cell_type": "markdown",
      "source": [
        "Acima temos os vetores que codificam cada texto. Na linha superior temos o n-gramas do texto_a_ser_comparado e na linha inferior temos a  codificação do textO_fonte. Podemos analisar se os textos possuem n_gramas em comum através de suas colunas. por exemplo, ambos possuem a palavra texto (inddice 7 - ultima coluna). O mesmo vale para os unigramas [essa],[seja],[que]e[suponha]. Notar que o unigrama [que] ocorre duas vezes no segundo texto."
      ],
      "metadata": {
        "id": "ecGe4SF3TrQw"
      }
    },
    {
      "cell_type": "code",
      "source": [
        "n_gramas"
      ],
      "metadata": {
        "colab": {
          "base_uri": "https://localhost:8080/"
        },
        "id": "UbWXg2QIVDpe",
        "outputId": "d7fcd7e5-8f04-4a25-acea-d54953db25b8"
      },
      "execution_count": null,
      "outputs": [
        {
          "output_type": "execute_result",
          "data": {
            "text/plain": [
              "<2x8 sparse matrix of type '<class 'numpy.int64'>'\n",
              "\twith 13 stored elements in Compressed Sparse Row format>"
            ]
          },
          "metadata": {},
          "execution_count": 10
        }
      ]
    },
    {
      "cell_type": "code",
      "source": [
        "n_gramas.toarray()"
      ],
      "metadata": {
        "colab": {
          "base_uri": "https://localhost:8080/"
        },
        "id": "-9mVgcq3VGGs",
        "outputId": "a844f53d-6a11-4416-d3e0-d8fbb7352d02"
      },
      "execution_count": null,
      "outputs": [
        {
          "output_type": "execute_result",
          "data": {
            "text/plain": [
              "array([[1, 1, 1, 0, 2, 1, 1, 1],\n",
              "       [0, 0, 1, 1, 1, 1, 1, 1]])"
            ]
          },
          "metadata": {},
          "execution_count": 11
        }
      ]
    },
    {
      "cell_type": "code",
      "source": [
        "intersection_list = np.amin(n_gramas.toarray(), axis = 0)\n",
        "intersection_list"
      ],
      "metadata": {
        "colab": {
          "base_uri": "https://localhost:8080/"
        },
        "id": "OSaenqHQVK6S",
        "outputId": "f70a88ae-1050-42ec-b6f7-b8de48b15850"
      },
      "execution_count": null,
      "outputs": [
        {
          "output_type": "execute_result",
          "data": {
            "text/plain": [
              "array([0, 0, 1, 0, 1, 1, 1, 1])"
            ]
          },
          "metadata": {},
          "execution_count": 12
        }
      ]
    },
    {
      "cell_type": "code",
      "source": [
        "intersection_count = np.sum(intersection_list)\n",
        "intersection_count"
      ],
      "metadata": {
        "colab": {
          "base_uri": "https://localhost:8080/"
        },
        "id": "sSQyL9ifVdQZ",
        "outputId": "dfbf98e7-e4be-4b6b-8c65-6186348108f0"
      },
      "execution_count": null,
      "outputs": [
        {
          "output_type": "execute_result",
          "data": {
            "text/plain": [
              "5"
            ]
          },
          "metadata": {},
          "execution_count": 14
        }
      ]
    },
    {
      "cell_type": "code",
      "source": [
        "index_A = 0\n",
        "A_count = np.sum(n_gramas.toarray()[index_A])\n",
        "A_count"
      ],
      "metadata": {
        "colab": {
          "base_uri": "https://localhost:8080/"
        },
        "id": "w3UQCT9nY43w",
        "outputId": "478b8812-b186-4059-f2c2-3b06b6c1adab"
      },
      "execution_count": null,
      "outputs": [
        {
          "output_type": "execute_result",
          "data": {
            "text/plain": [
              "8"
            ]
          },
          "metadata": {},
          "execution_count": 15
        }
      ]
    },
    {
      "cell_type": "code",
      "source": [
        "intersection_count/A_count"
      ],
      "metadata": {
        "colab": {
          "base_uri": "https://localhost:8080/"
        },
        "id": "o6sIi6zSZY8_",
        "outputId": "3dfaee9c-efe7-4979-d8c7-46c12d8a43f5"
      },
      "execution_count": null,
      "outputs": [
        {
          "output_type": "execute_result",
          "data": {
            "text/plain": [
              "0.625"
            ]
          },
          "metadata": {},
          "execution_count": 16
        }
      ]
    },
    {
      "cell_type": "code",
      "source": [],
      "metadata": {
        "id": "o-1-dHaLZfxM"
      },
      "execution_count": null,
      "outputs": []
    }
  ]
}